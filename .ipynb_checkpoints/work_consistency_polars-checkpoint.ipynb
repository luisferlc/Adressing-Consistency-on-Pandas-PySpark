{
 "cells": [
  {
   "cell_type": "code",
   "execution_count": 1,
   "id": "446efaed",
   "metadata": {},
   "outputs": [],
   "source": [
    "import polars as pl\n",
    "import polars.selectors as cs\n",
    "from polars.testing import assert_frame_equal"
   ]
  },
  {
   "cell_type": "code",
   "execution_count": 2,
   "id": "3e780d91",
   "metadata": {},
   "outputs": [
    {
     "data": {
      "text/html": [
       "<div><style>\n",
       ".dataframe > thead > tr,\n",
       ".dataframe > tbody > tr {\n",
       "  text-align: right;\n",
       "  white-space: pre-wrap;\n",
       "}\n",
       "</style>\n",
       "<small>shape: (5, 28)</small><table border=\"1\" class=\"dataframe\"><thead><tr><th>user_id</th><th>churn</th><th>age</th><th>credit_score</th><th>deposits</th><th>withdrawal</th><th>purchases_partners</th><th>purchases</th><th>cc_taken</th><th>cc_recommended</th><th>cc_disliked</th><th>cc_liked</th><th>cc_application_begin</th><th>app_downloaded</th><th>web_user</th><th>app_web_user</th><th>ios_user</th><th>android_user</th><th>registered_phones</th><th>payment_type</th><th>waiting_4_loan</th><th>cancelled_loan</th><th>received_loan</th><th>rejected_loan</th><th>zodiac_sign</th><th>rewards_earned</th><th>reward_rate</th><th>is_referred</th></tr><tr><td>i64</td><td>bool</td><td>f64</td><td>f64</td><td>i64</td><td>i64</td><td>i64</td><td>i64</td><td>i64</td><td>i64</td><td>i64</td><td>i64</td><td>i64</td><td>bool</td><td>bool</td><td>bool</td><td>bool</td><td>bool</td><td>i64</td><td>str</td><td>bool</td><td>bool</td><td>bool</td><td>bool</td><td>str</td><td>f64</td><td>f64</td><td>bool</td></tr></thead><tbody><tr><td>1</td><td>false</td><td>21.0</td><td>577.0</td><td>48</td><td>4</td><td>52</td><td>45</td><td>0</td><td>245</td><td>0</td><td>0</td><td>22</td><td>true</td><td>true</td><td>true</td><td>false</td><td>true</td><td>2</td><td>&quot;Semi-Monthly&quot;</td><td>false</td><td>false</td><td>false</td><td>false</td><td>&quot;Pisces&quot;</td><td>56.0</td><td>1.87</td><td>false</td></tr><tr><td>8</td><td>true</td><td>31.0</td><td>519.0</td><td>0</td><td>0</td><td>0</td><td>0</td><td>0</td><td>49</td><td>0</td><td>0</td><td>2</td><td>true</td><td>false</td><td>false</td><td>false</td><td>true</td><td>0</td><td>&quot;Bi-Weekly&quot;</td><td>false</td><td>false</td><td>false</td><td>false</td><td>&quot;Virgo&quot;</td><td>18.0</td><td>0.6</td><td>true</td></tr><tr><td>9</td><td>false</td><td>26.0</td><td>542.5156</td><td>0</td><td>0</td><td>30</td><td>0</td><td>0</td><td>56</td><td>0</td><td>0</td><td>5</td><td>true</td><td>true</td><td>true</td><td>false</td><td>true</td><td>2</td><td>&quot;Weekly&quot;</td><td>false</td><td>false</td><td>false</td><td>false</td><td>&quot;Sagittarius&quot;</td><td>23.0</td><td>0.77</td><td>false</td></tr><tr><td>10</td><td>false</td><td>33.0</td><td>558.0</td><td>0</td><td>0</td><td>76</td><td>0</td><td>0</td><td>166</td><td>0</td><td>0</td><td>8</td><td>true</td><td>false</td><td>false</td><td>false</td><td>true</td><td>0</td><td>&quot;Bi-Weekly&quot;</td><td>false</td><td>false</td><td>false</td><td>false</td><td>&quot;Leo&quot;</td><td>45.0</td><td>1.5</td><td>true</td></tr><tr><td>11</td><td>false</td><td>26.0</td><td>559.0</td><td>0</td><td>0</td><td>206</td><td>0</td><td>0</td><td>304</td><td>0</td><td>0</td><td>27</td><td>true</td><td>true</td><td>true</td><td>false</td><td>true</td><td>0</td><td>&quot;Bi-Weekly&quot;</td><td>false</td><td>false</td><td>false</td><td>false</td><td>&quot;Virgo&quot;</td><td>60.0</td><td>2.0</td><td>true</td></tr></tbody></table></div>"
      ],
      "text/plain": [
       "shape: (5, 28)\n",
       "┌─────────┬───────┬──────┬─────────────┬───┬─────────────┬─────────────┬─────────────┬─────────────┐\n",
       "│ user_id ┆ churn ┆ age  ┆ credit_scor ┆ … ┆ zodiac_sign ┆ rewards_ear ┆ reward_rate ┆ is_referred │\n",
       "│ ---     ┆ ---   ┆ ---  ┆ e           ┆   ┆ ---         ┆ ned         ┆ ---         ┆ ---         │\n",
       "│ i64     ┆ bool  ┆ f64  ┆ ---         ┆   ┆ str         ┆ ---         ┆ f64         ┆ bool        │\n",
       "│         ┆       ┆      ┆ f64         ┆   ┆             ┆ f64         ┆             ┆             │\n",
       "╞═════════╪═══════╪══════╪═════════════╪═══╪═════════════╪═════════════╪═════════════╪═════════════╡\n",
       "│ 1       ┆ false ┆ 21.0 ┆ 577.0       ┆ … ┆ Pisces      ┆ 56.0        ┆ 1.87        ┆ false       │\n",
       "│ 8       ┆ true  ┆ 31.0 ┆ 519.0       ┆ … ┆ Virgo       ┆ 18.0        ┆ 0.6         ┆ true        │\n",
       "│ 9       ┆ false ┆ 26.0 ┆ 542.5156    ┆ … ┆ Sagittarius ┆ 23.0        ┆ 0.77        ┆ false       │\n",
       "│ 10      ┆ false ┆ 33.0 ┆ 558.0       ┆ … ┆ Leo         ┆ 45.0        ┆ 1.5         ┆ true        │\n",
       "│ 11      ┆ false ┆ 26.0 ┆ 559.0       ┆ … ┆ Virgo       ┆ 60.0        ┆ 2.0         ┆ true        │\n",
       "└─────────┴───────┴──────┴─────────────┴───┴─────────────┴─────────────┴─────────────┴─────────────┘"
      ]
     },
     "execution_count": 2,
     "metadata": {},
     "output_type": "execute_result"
    }
   ],
   "source": [
    "df_fintech = pl.read_csv(\"clean_fintech.csv\")\n",
    "df_fintech.head()"
   ]
  },
  {
   "cell_type": "markdown",
   "id": "6159464c",
   "metadata": {},
   "source": [
    "## Transformations to perform:\n",
    "- Multiply all numeric columns * 2.\n",
    "- Delete the letter \"e\" from all str columns.\n",
    "- Set all bool variables to True.\n",
    "- Create 3 extra numeric columns:\n",
    "    - Mean of purchases.\n",
    "    - Median of age.\n",
    "    - Mean of credit_score."
   ]
  },
  {
   "cell_type": "code",
   "execution_count": 3,
   "id": "89f3920f",
   "metadata": {},
   "outputs": [],
   "source": [
    "df_fintech_2 = df_fintech[['age','credit_score','purchases','zodiac_sign','payment_type','churn','cancelled_loan','received_loan']].clone()\n",
    "df_fintech_2 = df_fintech_2.with_columns(pl.col(\"age\").cast(pl.Int64))"
   ]
  },
  {
   "cell_type": "code",
   "execution_count": 4,
   "id": "682c068c",
   "metadata": {},
   "outputs": [],
   "source": [
    "df_fintech_3 = df_fintech_2.clone()"
   ]
  },
  {
   "cell_type": "code",
   "execution_count": 5,
   "id": "e20499b0",
   "metadata": {},
   "outputs": [
    {
     "data": {
      "text/html": [
       "<div><style>\n",
       ".dataframe > thead > tr,\n",
       ".dataframe > tbody > tr {\n",
       "  text-align: right;\n",
       "  white-space: pre-wrap;\n",
       "}\n",
       "</style>\n",
       "<small>shape: (2, 8)</small><table border=\"1\" class=\"dataframe\"><thead><tr><th>age</th><th>credit_score</th><th>purchases</th><th>zodiac_sign</th><th>payment_type</th><th>churn</th><th>cancelled_loan</th><th>received_loan</th></tr><tr><td>i64</td><td>f64</td><td>i64</td><td>str</td><td>str</td><td>bool</td><td>bool</td><td>bool</td></tr></thead><tbody><tr><td>21</td><td>577.0</td><td>45</td><td>&quot;Pisces&quot;</td><td>&quot;Semi-Monthly&quot;</td><td>false</td><td>false</td><td>false</td></tr><tr><td>31</td><td>519.0</td><td>0</td><td>&quot;Virgo&quot;</td><td>&quot;Bi-Weekly&quot;</td><td>true</td><td>false</td><td>false</td></tr></tbody></table></div>"
      ],
      "text/plain": [
       "shape: (2, 8)\n",
       "┌─────┬──────────────┬───────────┬─────────────┬──────────────┬───────┬──────────────┬─────────────┐\n",
       "│ age ┆ credit_score ┆ purchases ┆ zodiac_sign ┆ payment_type ┆ churn ┆ cancelled_lo ┆ received_lo │\n",
       "│ --- ┆ ---          ┆ ---       ┆ ---         ┆ ---          ┆ ---   ┆ an           ┆ an          │\n",
       "│ i64 ┆ f64          ┆ i64       ┆ str         ┆ str          ┆ bool  ┆ ---          ┆ ---         │\n",
       "│     ┆              ┆           ┆             ┆              ┆       ┆ bool         ┆ bool        │\n",
       "╞═════╪══════════════╪═══════════╪═════════════╪══════════════╪═══════╪══════════════╪═════════════╡\n",
       "│ 21  ┆ 577.0        ┆ 45        ┆ Pisces      ┆ Semi-Monthly ┆ false ┆ false        ┆ false       │\n",
       "│ 31  ┆ 519.0        ┆ 0         ┆ Virgo       ┆ Bi-Weekly    ┆ true  ┆ false        ┆ false       │\n",
       "└─────┴──────────────┴───────────┴─────────────┴──────────────┴───────┴──────────────┴─────────────┘"
      ]
     },
     "execution_count": 5,
     "metadata": {},
     "output_type": "execute_result"
    }
   ],
   "source": [
    "df_fintech_2.head(2)"
   ]
  },
  {
   "cell_type": "code",
   "execution_count": 6,
   "id": "9f74e95c",
   "metadata": {},
   "outputs": [
    {
     "data": {
      "text/plain": [
       "[Int64, Float64, Int64, String, String, Boolean, Boolean, Boolean]"
      ]
     },
     "execution_count": 6,
     "metadata": {},
     "output_type": "execute_result"
    }
   ],
   "source": [
    "df_fintech_2.dtypes"
   ]
  },
  {
   "cell_type": "code",
   "execution_count": 7,
   "id": "eaf8cb7c",
   "metadata": {},
   "outputs": [],
   "source": [
    "def transform_bool(df):\n",
    "    for c in df.select(cs.all() - cs.numeric() - cs.string()).columns:\n",
    "        df = df.with_columns(pl.lit(True).alias(c))\n",
    "    return df\n",
    "\n",
    "def transform_str(df):\n",
    "    for c in df.select(cs.string()).columns:\n",
    "        df = df.with_columns(pl.col(c).str.replace_all(\"e\",\"\"))\n",
    "    return df\n",
    "\n",
    "def transform_numeric(df):\n",
    "    for c in df.select(cs.numeric()).columns:\n",
    "        df = df.with_columns(pl.col(c)*2)\n",
    "    return df\n",
    "\n",
    "def transform_extracols(df):\n",
    "    df = df.with_columns([\n",
    "        (pl.col(\"purchases\").mean()).alias(\"purchases_mean\").cast(pl.Int64),\n",
    "        (pl.col(\"age\").median()).alias(\"age_median\"),\n",
    "        (pl.col(\"credit_score\").mean()).alias(\"score_mean\")\n",
    "    ])\n",
    "    return df"
   ]
  },
  {
   "cell_type": "code",
   "execution_count": 8,
   "id": "6cd81f82",
   "metadata": {},
   "outputs": [],
   "source": [
    "df_fintech_2 = df_fintech_2.pipe(transform_str).pipe(transform_numeric).pipe(transform_bool).pipe(transform_extracols)\n",
    "# result = (\n",
    "#    df.lazy()\n",
    "#    .pipe(add_position_column)\n",
    "#    .pipe(add_squad_number_column)\n",
    "#    .collect()\n",
    "#)\n",
    "#\n",
    "#result\n",
    "# https://typethepipe.com/vizs-and-tips/python-polars-pipe-function-to-one-more-columns/ "
   ]
  },
  {
   "cell_type": "code",
   "execution_count": 9,
   "id": "3b3c62d3",
   "metadata": {},
   "outputs": [
    {
     "data": {
      "text/plain": [
       "[Int64,\n",
       " Float64,\n",
       " Int64,\n",
       " String,\n",
       " String,\n",
       " Boolean,\n",
       " Boolean,\n",
       " Boolean,\n",
       " Int64,\n",
       " Float64,\n",
       " Float64]"
      ]
     },
     "execution_count": 9,
     "metadata": {},
     "output_type": "execute_result"
    }
   ],
   "source": [
    "df_fintech_2.dtypes"
   ]
  },
  {
   "cell_type": "code",
   "execution_count": 10,
   "id": "497bc9af",
   "metadata": {},
   "outputs": [
    {
     "data": {
      "text/html": [
       "<div><style>\n",
       ".dataframe > thead > tr,\n",
       ".dataframe > tbody > tr {\n",
       "  text-align: right;\n",
       "  white-space: pre-wrap;\n",
       "}\n",
       "</style>\n",
       "<small>shape: (5, 11)</small><table border=\"1\" class=\"dataframe\"><thead><tr><th>age</th><th>credit_score</th><th>purchases</th><th>zodiac_sign</th><th>payment_type</th><th>churn</th><th>cancelled_loan</th><th>received_loan</th><th>purchases_mean</th><th>age_median</th><th>score_mean</th></tr><tr><td>i64</td><td>f64</td><td>i64</td><td>str</td><td>str</td><td>bool</td><td>bool</td><td>bool</td><td>i64</td><td>f64</td><td>f64</td></tr></thead><tbody><tr><td>42</td><td>1154.0</td><td>90</td><td>&quot;Piscs&quot;</td><td>&quot;Smi-Monthly&quot;</td><td>true</td><td>true</td><td>true</td><td>6</td><td>60.0</td><td>1085.152626</td></tr><tr><td>62</td><td>1038.0</td><td>0</td><td>&quot;Virgo&quot;</td><td>&quot;Bi-Wkly&quot;</td><td>true</td><td>true</td><td>true</td><td>6</td><td>60.0</td><td>1085.152626</td></tr><tr><td>52</td><td>1085.0312</td><td>0</td><td>&quot;Sagittarius&quot;</td><td>&quot;Wkly&quot;</td><td>true</td><td>true</td><td>true</td><td>6</td><td>60.0</td><td>1085.152626</td></tr><tr><td>66</td><td>1116.0</td><td>0</td><td>&quot;Lo&quot;</td><td>&quot;Bi-Wkly&quot;</td><td>true</td><td>true</td><td>true</td><td>6</td><td>60.0</td><td>1085.152626</td></tr><tr><td>52</td><td>1118.0</td><td>0</td><td>&quot;Virgo&quot;</td><td>&quot;Bi-Wkly&quot;</td><td>true</td><td>true</td><td>true</td><td>6</td><td>60.0</td><td>1085.152626</td></tr></tbody></table></div>"
      ],
      "text/plain": [
       "shape: (5, 11)\n",
       "┌─────┬────────────┬───────────┬────────────┬───┬────────────┬────────────┬────────────┬───────────┐\n",
       "│ age ┆ credit_sco ┆ purchases ┆ zodiac_sig ┆ … ┆ received_l ┆ purchases_ ┆ age_median ┆ score_mea │\n",
       "│ --- ┆ re         ┆ ---       ┆ n          ┆   ┆ oan        ┆ mean       ┆ ---        ┆ n         │\n",
       "│ i64 ┆ ---        ┆ i64       ┆ ---        ┆   ┆ ---        ┆ ---        ┆ f64        ┆ ---       │\n",
       "│     ┆ f64        ┆           ┆ str        ┆   ┆ bool       ┆ i64        ┆            ┆ f64       │\n",
       "╞═════╪════════════╪═══════════╪════════════╪═══╪════════════╪════════════╪════════════╪═══════════╡\n",
       "│ 42  ┆ 1154.0     ┆ 90        ┆ Piscs      ┆ … ┆ true       ┆ 6          ┆ 60.0       ┆ 1085.1526 │\n",
       "│     ┆            ┆           ┆            ┆   ┆            ┆            ┆            ┆ 26        │\n",
       "│ 62  ┆ 1038.0     ┆ 0         ┆ Virgo      ┆ … ┆ true       ┆ 6          ┆ 60.0       ┆ 1085.1526 │\n",
       "│     ┆            ┆           ┆            ┆   ┆            ┆            ┆            ┆ 26        │\n",
       "│ 52  ┆ 1085.0312  ┆ 0         ┆ Sagittariu ┆ … ┆ true       ┆ 6          ┆ 60.0       ┆ 1085.1526 │\n",
       "│     ┆            ┆           ┆ s          ┆   ┆            ┆            ┆            ┆ 26        │\n",
       "│ 66  ┆ 1116.0     ┆ 0         ┆ Lo         ┆ … ┆ true       ┆ 6          ┆ 60.0       ┆ 1085.1526 │\n",
       "│     ┆            ┆           ┆            ┆   ┆            ┆            ┆            ┆ 26        │\n",
       "│ 52  ┆ 1118.0     ┆ 0         ┆ Virgo      ┆ … ┆ true       ┆ 6          ┆ 60.0       ┆ 1085.1526 │\n",
       "│     ┆            ┆           ┆            ┆   ┆            ┆            ┆            ┆ 26        │\n",
       "└─────┴────────────┴───────────┴────────────┴───┴────────────┴────────────┴────────────┴───────────┘"
      ]
     },
     "execution_count": 10,
     "metadata": {},
     "output_type": "execute_result"
    }
   ],
   "source": [
    "df_fintech_2.head()"
   ]
  },
  {
   "cell_type": "markdown",
   "id": "7c88b67d",
   "metadata": {},
   "source": [
    "---"
   ]
  },
  {
   "cell_type": "code",
   "execution_count": 13,
   "id": "26a8ee75",
   "metadata": {},
   "outputs": [],
   "source": [
    "# Apply transform df_orig inside the assert function.\n",
    "def assert_transform(df_orig):\n",
    "    \n",
    "    #transform orig\n",
    "    df_orig = df_orig.pipe(transform_str).pipe(transform_numeric).pipe(transform_bool).pipe(transform_extracols)\n",
    "    #expected df\n",
    "    df_expected = pl.DataFrame({\n",
    "    'age':[42,62,52,66,52],\n",
    "    'credit_score':[1154.0000,1038.0000,1085.0312,1116.0000,1118.0000],\n",
    "    'purchases':[90,0,0,0,0],\n",
    "    'zodiac_sign':['Piscs','Virgo','Sagittarius','Lo','Virgo'],\n",
    "    'payment_type':['Smi-Monthly','Bi-Wkly','Wkly','Bi-Wkly','Bi-Wkly'],\n",
    "    'churn':[True,True,True,True,True],\n",
    "    'cancelled_loan':[True,True,True,True,True],\n",
    "    'received_loan':[True,True,True,True,True],\n",
    "    'purchases_mean':[18,18,18,18,18],\n",
    "    'age_median':[52.0,52.0,52.0,52.0,52.0],\n",
    "    'score_mean':[1102.20624,1102.20624,1102.20624,1102.20624,1102.20624]})\n",
    "    \n",
    "    assert_frame_equal(df_expected, df_orig)"
   ]
  },
  {
   "cell_type": "code",
   "execution_count": 14,
   "id": "faae28fb",
   "metadata": {},
   "outputs": [],
   "source": [
    "assert_transform(df_fintech_3.head())"
   ]
  },
  {
   "cell_type": "code",
   "execution_count": null,
   "id": "70a25eeb",
   "metadata": {},
   "outputs": [],
   "source": []
  }
 ],
 "metadata": {
  "kernelspec": {
   "display_name": "Python 3 (ipykernel)",
   "language": "python",
   "name": "python3"
  },
  "language_info": {
   "codemirror_mode": {
    "name": "ipython",
    "version": 3
   },
   "file_extension": ".py",
   "mimetype": "text/x-python",
   "name": "python",
   "nbconvert_exporter": "python",
   "pygments_lexer": "ipython3",
   "version": "3.11.5"
  }
 },
 "nbformat": 4,
 "nbformat_minor": 5
}
