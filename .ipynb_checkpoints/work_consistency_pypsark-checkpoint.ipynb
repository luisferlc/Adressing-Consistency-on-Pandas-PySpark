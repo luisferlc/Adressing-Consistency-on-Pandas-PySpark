{
 "cells": [
  {
   "cell_type": "code",
   "execution_count": 26,
   "id": "29492750",
   "metadata": {},
   "outputs": [],
   "source": [
    "from pyspark.sql import SparkSession\n",
    "from pyspark.sql.functions import *\n",
    "from pyspark.sql.types import *\n",
    "import pyspark.pandas as ps\n",
    "import pandas as pd"
   ]
  },
  {
   "cell_type": "code",
   "execution_count": 2,
   "id": "fa22c3c5",
   "metadata": {},
   "outputs": [],
   "source": [
    "import os\n",
    "import sys\n",
    "os.environ['PYSPARK_PYTHON'] = sys.executable\n",
    "os.environ['PYSPARK_DRIVER_PYTHON'] = sys.executable"
   ]
  },
  {
   "cell_type": "code",
   "execution_count": 3,
   "id": "446efaed",
   "metadata": {},
   "outputs": [],
   "source": [
    "spark = SparkSession.builder.appName(\"consistency_test\").getOrCreate()"
   ]
  },
  {
   "cell_type": "code",
   "execution_count": 4,
   "id": "3e780d91",
   "metadata": {},
   "outputs": [
    {
     "name": "stdout",
     "output_type": "stream",
     "text": [
      "+-------+-----+----+------------+--------+----------+------------------+---------+--------+--------------+-----------+--------+--------------------+--------------+--------+------------+--------+------------+-----------------+------------+--------------+--------------+-------------+-------------+-----------+--------------+-----------+-----------+\n",
      "|user_id|churn| age|credit_score|deposits|withdrawal|purchases_partners|purchases|cc_taken|cc_recommended|cc_disliked|cc_liked|cc_application_begin|app_downloaded|web_user|app_web_user|ios_user|android_user|registered_phones|payment_type|waiting_4_loan|cancelled_loan|received_loan|rejected_loan|zodiac_sign|rewards_earned|reward_rate|is_referred|\n",
      "+-------+-----+----+------------+--------+----------+------------------+---------+--------+--------------+-----------+--------+--------------------+--------------+--------+------------+--------+------------+-----------------+------------+--------------+--------------+-------------+-------------+-----------+--------------+-----------+-----------+\n",
      "|      1|false|21.0|       577.0|      48|         4|                52|       45|       0|           245|          0|       0|                  22|          true|    true|        true|   false|        true|                2|Semi-Monthly|         false|         false|        false|        false|     Pisces|          56.0|       1.87|      false|\n",
      "|      8| true|31.0|       519.0|       0|         0|                 0|        0|       0|            49|          0|       0|                   2|          true|   false|       false|   false|        true|                0|   Bi-Weekly|         false|         false|        false|        false|      Virgo|          18.0|        0.6|       true|\n",
      "+-------+-----+----+------------+--------+----------+------------------+---------+--------+--------------+-----------+--------+--------------------+--------------+--------+------------+--------+------------+-----------------+------------+--------------+--------------+-------------+-------------+-----------+--------------+-----------+-----------+\n",
      "only showing top 2 rows\n",
      "\n"
     ]
    }
   ],
   "source": [
    "df_fintech = spark.read.csv(\"clean_fintech.csv\", header = True, inferSchema=True)\n",
    "df_fintech.show(2)"
   ]
  },
  {
   "cell_type": "markdown",
   "id": "6159464c",
   "metadata": {},
   "source": [
    "## Transformations to perform:\n",
    "- Multiply all numeric columns * 2.\n",
    "- Delete the letter \"e\" from all str columns.\n",
    "- Set all bool variables to True.\n",
    "- Create 3 extra numeric columns:\n",
    "    - Mean of purchases.\n",
    "    - Median of age.\n",
    "    - Mean of credit_score."
   ]
  },
  {
   "cell_type": "code",
   "execution_count": 76,
   "id": "e5c7f66b",
   "metadata": {},
   "outputs": [],
   "source": [
    "df_fintech_2 = df_fintech.select('age','credit_score','purchases','zodiac_sign','payment_type','churn','cancelled_loan','received_loan')"
   ]
  },
  {
   "cell_type": "code",
   "execution_count": 77,
   "id": "89f3920f",
   "metadata": {},
   "outputs": [],
   "source": [
    "df_fintech_2 = df_fintech_2.withColumn(\"age\", df_fintech_2.age.cast(\"int\"))"
   ]
  },
  {
   "cell_type": "code",
   "execution_count": 78,
   "id": "8927a10e",
   "metadata": {},
   "outputs": [],
   "source": [
    "df_fintech_3 = df_fintech_2"
   ]
  },
  {
   "cell_type": "code",
   "execution_count": 8,
   "id": "e20499b0",
   "metadata": {},
   "outputs": [
    {
     "name": "stdout",
     "output_type": "stream",
     "text": [
      "+---+-----------------+---------+-----------+------------+-----+--------------+-------------+\n",
      "|age|     credit_score|purchases|zodiac_sign|payment_type|churn|cancelled_loan|received_loan|\n",
      "+---+-----------------+---------+-----------+------------+-----+--------------+-------------+\n",
      "| 21|            577.0|       45|     Pisces|Semi-Monthly|false|         false|        false|\n",
      "| 31|            519.0|        0|      Virgo|   Bi-Weekly| true|         false|        false|\n",
      "| 26|542.5155998157956|        0|Sagittarius|      Weekly|false|         false|        false|\n",
      "+---+-----------------+---------+-----------+------------+-----+--------------+-------------+\n",
      "only showing top 3 rows\n",
      "\n"
     ]
    }
   ],
   "source": [
    "df_fintech_2.show(3)"
   ]
  },
  {
   "cell_type": "code",
   "execution_count": 9,
   "id": "9f74e95c",
   "metadata": {},
   "outputs": [
    {
     "name": "stdout",
     "output_type": "stream",
     "text": [
      "root\n",
      " |-- age: integer (nullable = true)\n",
      " |-- credit_score: double (nullable = true)\n",
      " |-- purchases: integer (nullable = true)\n",
      " |-- zodiac_sign: string (nullable = true)\n",
      " |-- payment_type: string (nullable = true)\n",
      " |-- churn: boolean (nullable = true)\n",
      " |-- cancelled_loan: boolean (nullable = true)\n",
      " |-- received_loan: boolean (nullable = true)\n",
      "\n"
     ]
    }
   ],
   "source": [
    "df_fintech_2.printSchema()"
   ]
  },
  {
   "cell_type": "code",
   "execution_count": 10,
   "id": "00f49665",
   "metadata": {},
   "outputs": [],
   "source": [
    "# df_fintech_2 = df_fintech_2.withColumn(\"purchases_mean\", lit(df_fintech_2.select(mean('purchases')).collect()[0][0]))\\\n",
    "#              .withColumn(\"score_mean\", lit(df_fintech_2.select(mean('credit_score')).collect()[0][0]))\\\n",
    "#             .withColumn(\"age_median\", lit(df_fintech_2.select(median('age')).collect()[0][0]))"
   ]
  },
  {
   "cell_type": "code",
   "execution_count": 62,
   "id": "eaf8cb7c",
   "metadata": {},
   "outputs": [],
   "source": [
    "def transform_bool(df):\n",
    "    for c in [f.name for f in df.schema.fields if isinstance(f.dataType, BooleanType)]:\n",
    "        df = df.withColumn(c, lit(True))\n",
    "    return df\n",
    "\n",
    "def transform_str(df):\n",
    "    for c in [f.name for f in df.schema.fields if isinstance(f.dataType, StringType)]:\n",
    "        df = df.withColumn(c, regexp_replace(c, 'e', ''))\n",
    "    return df\n",
    "\n",
    "def transform_numeric(df):\n",
    "    for c in [f.name for f in df.schema.fields if isinstance (f.dataType, (IntegerType,DoubleType))]:\n",
    "        df = df.withColumn(c, df[c]*2)\n",
    "    return df\n",
    "\n",
    "def transform_extracols(df):\n",
    "    df = df.withColumn(\"purchases_mean\", lit(df.select(mean('purchases')).collect()[0][0]))\\\n",
    "             .withColumn(\"score_mean\", lit(df.select(mean('credit_score')).collect()[0][0]))\\\n",
    "            .withColumn(\"age_median\", lit(df.select(median('age')).collect()[0][0]))\n",
    "    return df"
   ]
  },
  {
   "cell_type": "code",
   "execution_count": 79,
   "id": "6cd81f82",
   "metadata": {},
   "outputs": [],
   "source": [
    "df_fintech_2 = df_fintech_2.transform(transform_str).transform(transform_numeric).transform(transform_bool).transform(transform_extracols)\n",
    "# result = (\n",
    "#    df.lazy()\n",
    "#    .pipe(add_position_column)\n",
    "#    .pipe(add_squad_number_column)\n",
    "#    .collect()\n",
    "#)\n",
    "#\n",
    "#result\n",
    "# https://typethepipe.com/vizs-and-tips/python-polars-pipe-function-to-one-more-columns/ "
   ]
  },
  {
   "cell_type": "code",
   "execution_count": 80,
   "id": "90942e6e",
   "metadata": {},
   "outputs": [],
   "source": [
    "pandas_df = pd.DataFrame({\n",
    "'age':[42,62,52,66,52],\n",
    "'credit_score':[1154.0000,1038.0000,1085.031199631591,1116.0000,1118.0000],\n",
    "'purchases':[90,0,0,0,0],\n",
    "'zodiac_sign':['Piscs','Virgo','Sagittarius','Lo','Virgo'],\n",
    "'payment_type':['Smi-Monthly','Bi-Wkly','Wkly','Bi-Wkly','Bi-Wkly'],\n",
    "'churn':[True,True,True,True,True],\n",
    "'cancelled_loan':[True,True,True,True,True],\n",
    "'received_loan':[True,True,True,True,True],\n",
    "'purchases_mean':[6.318724749692605,6.318724749692605,6.318724749692605,6.318724749692605,6.318724749692605],\n",
    "'score_mean':[1085.1526258518454,1085.1526258518454,1085.1526258518454,1085.1526258518454,1085.1526258518454],\n",
    "'age_median':[60.0,60.0,60.0,60.0,60.0]\n",
    "})\n",
    "###\n",
    "pyspark_schema = StructType([\n",
    "StructField('age',IntegerType()),\n",
    "StructField('credit_score',DoubleType()),\n",
    "StructField('purchases',IntegerType()),\n",
    "StructField('zodiac_sign',StringType()),\n",
    "StructField('payment_type',StringType()),\n",
    "StructField('churn',BooleanType(),False),\n",
    "StructField('cancelled_loan',BooleanType(),False),\n",
    "StructField('received_loan',BooleanType(),False),\n",
    "StructField('purchases_mean',DoubleType(),False),\n",
    "StructField('score_mean',DoubleType(), False),\n",
    "StructField('age_median',DoubleType(),False)\n",
    "])\n",
    "\n",
    "df_expected = spark.createDataFrame(pandas_df, pyspark_schema)"
   ]
  },
  {
   "cell_type": "code",
   "execution_count": 81,
   "id": "3b3c62d3",
   "metadata": {},
   "outputs": [
    {
     "name": "stdout",
     "output_type": "stream",
     "text": [
      "root\n",
      " |-- age: integer (nullable = true)\n",
      " |-- credit_score: double (nullable = true)\n",
      " |-- purchases: integer (nullable = true)\n",
      " |-- zodiac_sign: string (nullable = true)\n",
      " |-- payment_type: string (nullable = true)\n",
      " |-- churn: boolean (nullable = false)\n",
      " |-- cancelled_loan: boolean (nullable = false)\n",
      " |-- received_loan: boolean (nullable = false)\n",
      " |-- purchases_mean: double (nullable = false)\n",
      " |-- score_mean: double (nullable = false)\n",
      " |-- age_median: double (nullable = false)\n",
      "\n"
     ]
    }
   ],
   "source": [
    "df_fintech_2.printSchema()"
   ]
  },
  {
   "cell_type": "code",
   "execution_count": 82,
   "id": "437ff5ca",
   "metadata": {},
   "outputs": [
    {
     "name": "stdout",
     "output_type": "stream",
     "text": [
      "root\n",
      " |-- age: integer (nullable = true)\n",
      " |-- credit_score: double (nullable = true)\n",
      " |-- purchases: integer (nullable = true)\n",
      " |-- zodiac_sign: string (nullable = true)\n",
      " |-- payment_type: string (nullable = true)\n",
      " |-- churn: boolean (nullable = false)\n",
      " |-- cancelled_loan: boolean (nullable = false)\n",
      " |-- received_loan: boolean (nullable = false)\n",
      " |-- purchases_mean: double (nullable = false)\n",
      " |-- score_mean: double (nullable = false)\n",
      " |-- age_median: double (nullable = false)\n",
      "\n"
     ]
    }
   ],
   "source": [
    "df_expected.printSchema()"
   ]
  },
  {
   "cell_type": "code",
   "execution_count": 83,
   "id": "8ad01dfa",
   "metadata": {},
   "outputs": [
    {
     "data": {
      "text/plain": [
       "[Row(age=42, credit_score=1154.0, purchases=90, zodiac_sign='Piscs', payment_type='Smi-Monthly', churn=True, cancelled_loan=True, received_loan=True, purchases_mean=6.318724749692605, score_mean=1085.1526258518454, age_median=60.0),\n",
       " Row(age=62, credit_score=1038.0, purchases=0, zodiac_sign='Virgo', payment_type='Bi-Wkly', churn=True, cancelled_loan=True, received_loan=True, purchases_mean=6.318724749692605, score_mean=1085.1526258518454, age_median=60.0),\n",
       " Row(age=52, credit_score=1085.031199631591, purchases=0, zodiac_sign='Sagittarius', payment_type='Wkly', churn=True, cancelled_loan=True, received_loan=True, purchases_mean=6.318724749692605, score_mean=1085.1526258518454, age_median=60.0),\n",
       " Row(age=66, credit_score=1116.0, purchases=0, zodiac_sign='Lo', payment_type='Bi-Wkly', churn=True, cancelled_loan=True, received_loan=True, purchases_mean=6.318724749692605, score_mean=1085.1526258518454, age_median=60.0),\n",
       " Row(age=52, credit_score=1118.0, purchases=0, zodiac_sign='Virgo', payment_type='Bi-Wkly', churn=True, cancelled_loan=True, received_loan=True, purchases_mean=6.318724749692605, score_mean=1085.1526258518454, age_median=60.0)]"
      ]
     },
     "execution_count": 83,
     "metadata": {},
     "output_type": "execute_result"
    }
   ],
   "source": [
    "df_fintech_2.limit(5).collect()"
   ]
  },
  {
   "cell_type": "code",
   "execution_count": 84,
   "id": "57cc339d",
   "metadata": {},
   "outputs": [
    {
     "data": {
      "text/plain": [
       "[Row(age=42, credit_score=1154.0, purchases=90, zodiac_sign='Piscs', payment_type='Smi-Monthly', churn=True, cancelled_loan=True, received_loan=True, purchases_mean=6.318724749692605, score_mean=1085.1526258518454, age_median=60.0),\n",
       " Row(age=62, credit_score=1038.0, purchases=0, zodiac_sign='Virgo', payment_type='Bi-Wkly', churn=True, cancelled_loan=True, received_loan=True, purchases_mean=6.318724749692605, score_mean=1085.1526258518454, age_median=60.0),\n",
       " Row(age=52, credit_score=1085.031199631591, purchases=0, zodiac_sign='Sagittarius', payment_type='Wkly', churn=True, cancelled_loan=True, received_loan=True, purchases_mean=6.318724749692605, score_mean=1085.1526258518454, age_median=60.0),\n",
       " Row(age=66, credit_score=1116.0, purchases=0, zodiac_sign='Lo', payment_type='Bi-Wkly', churn=True, cancelled_loan=True, received_loan=True, purchases_mean=6.318724749692605, score_mean=1085.1526258518454, age_median=60.0),\n",
       " Row(age=52, credit_score=1118.0, purchases=0, zodiac_sign='Virgo', payment_type='Bi-Wkly', churn=True, cancelled_loan=True, received_loan=True, purchases_mean=6.318724749692605, score_mean=1085.1526258518454, age_median=60.0)]"
      ]
     },
     "execution_count": 84,
     "metadata": {},
     "output_type": "execute_result"
    }
   ],
   "source": [
    "df_expected.collect()"
   ]
  },
  {
   "cell_type": "code",
   "execution_count": 58,
   "id": "ce47979f",
   "metadata": {},
   "outputs": [],
   "source": [
    "# df_orig.withColumn('hash_value', hash(*sorted(df_orig.columns))).select('hash_value').show(10)\n",
    "# df_expected.withColumn('hash_value', hash(*sorted(df_expected.columns))).select('hash_value').show(10)\n",
    "# Sum the hashes, see https://shortest.link/28YE\n",
    "# value = df.agg(F.sum('hash_value')).collect()[0][0]\n",
    "# https://stackoverflow.com/questions/52619099/pytest-assert-for-pyspark-dataframe-comparison"
   ]
  },
  {
   "cell_type": "code",
   "execution_count": 89,
   "id": "35bca6f6",
   "metadata": {},
   "outputs": [
    {
     "name": "stdout",
     "output_type": "stream",
     "text": [
      "Assertion completed succesfully!\n"
     ]
    }
   ],
   "source": [
    "assert sorted(df_expected.collect()) == sorted(df_fintech_2.limit(5).collect()), \"Assertion failed\"\n",
    "print(\"Assertion completed succesfully!\")"
   ]
  },
  {
   "cell_type": "markdown",
   "id": "7c88b67d",
   "metadata": {},
   "source": [
    "---"
   ]
  },
  {
   "cell_type": "code",
   "execution_count": 71,
   "id": "26a8ee75",
   "metadata": {},
   "outputs": [],
   "source": [
    "# Apply transform df_orig inside the assert function.\n",
    "def assert_transform(df_orig):\n",
    "    \n",
    "    #transform orig\n",
    "    df_orig = df_orig.transform(transform_str).transform(transform_numeric).transform(transform_bool).transform(transform_extracols)\n",
    "    #expected df\n",
    "    pandas_df = pd.DataFrame({\n",
    "    'age':[42,62,52,66,52],\n",
    "    'credit_score':[1154.0000,1038.0000,1085.031199631591,1116.0000,1118.0000],\n",
    "    'purchases':[90,0,0,0,0],\n",
    "    'zodiac_sign':['Piscs','Virgo','Sagittarius','Lo','Virgo'],\n",
    "    'payment_type':['Smi-Monthly','Bi-Wkly','Wkly','Bi-Wkly','Bi-Wkly'],\n",
    "    'churn':[True,True,True,True,True],\n",
    "    'cancelled_loan':[True,True,True,True,True],\n",
    "    'received_loan':[True,True,True,True,True],\n",
    "    'purchases_mean':[6.318724749692605,6.318724749692605,6.318724749692605,6.318724749692605,6.318724749692605],\n",
    "    'score_mean':[1085.1526258518454,1085.1526258518454,1085.1526258518454,1085.1526258518454,1085.1526258518454],\n",
    "    'age_median':[60.0,60.0,60.0,60.0,60.0]\n",
    "    })\n",
    "    ###\n",
    "    pyspark_schema = StructType([\n",
    "    StructField('age',IntegerType()),\n",
    "    StructField('credit_score',DoubleType()),\n",
    "    StructField('purchases',IntegerType()),\n",
    "    StructField('zodiac_sign',StringType()),\n",
    "    StructField('payment_type',StringType()),\n",
    "    StructField('churn',BooleanType(),False),\n",
    "    StructField('cancelled_loan',BooleanType(),False),\n",
    "    StructField('received_loan',BooleanType(),False),\n",
    "    StructField('purchases_mean',DoubleType(),False),\n",
    "    StructField('score_mean',DoubleType(), False),\n",
    "    StructField('age_median',DoubleType(),False)\n",
    "    ])\n",
    "\n",
    "    df_expected = spark.createDataFrame(pandas_df, pyspark_schema)\n",
    "    \n",
    "    assert sorted(df_expected.collect()) == sorted(df_orig.collect())"
   ]
  },
  {
   "cell_type": "code",
   "execution_count": 72,
   "id": "faae28fb",
   "metadata": {},
   "outputs": [
    {
     "ename": "AssertionError",
     "evalue": "",
     "output_type": "error",
     "traceback": [
      "\u001b[1;31m---------------------------------------------------------------------------\u001b[0m",
      "\u001b[1;31mAssertionError\u001b[0m                            Traceback (most recent call last)",
      "Cell \u001b[1;32mIn[72], line 1\u001b[0m\n\u001b[1;32m----> 1\u001b[0m assert_transform(df_fintech_3\u001b[38;5;241m.\u001b[39mlimit(\u001b[38;5;241m5\u001b[39m))\n",
      "Cell \u001b[1;32mIn[71], line 37\u001b[0m, in \u001b[0;36massert_transform\u001b[1;34m(df_orig)\u001b[0m\n\u001b[0;32m     21\u001b[0m pyspark_schema \u001b[38;5;241m=\u001b[39m StructType([\n\u001b[0;32m     22\u001b[0m StructField(\u001b[38;5;124m'\u001b[39m\u001b[38;5;124mage\u001b[39m\u001b[38;5;124m'\u001b[39m,IntegerType()),\n\u001b[0;32m     23\u001b[0m StructField(\u001b[38;5;124m'\u001b[39m\u001b[38;5;124mcredit_score\u001b[39m\u001b[38;5;124m'\u001b[39m,DoubleType()),\n\u001b[1;32m   (...)\u001b[0m\n\u001b[0;32m     32\u001b[0m StructField(\u001b[38;5;124m'\u001b[39m\u001b[38;5;124mage_median\u001b[39m\u001b[38;5;124m'\u001b[39m,DoubleType(),\u001b[38;5;28;01mFalse\u001b[39;00m)\n\u001b[0;32m     33\u001b[0m ])\n\u001b[0;32m     35\u001b[0m df_expected \u001b[38;5;241m=\u001b[39m spark\u001b[38;5;241m.\u001b[39mcreateDataFrame(pandas_df, pyspark_schema)\n\u001b[1;32m---> 37\u001b[0m \u001b[38;5;28;01massert\u001b[39;00m \u001b[38;5;28msorted\u001b[39m(df_expected\u001b[38;5;241m.\u001b[39mcollect()) \u001b[38;5;241m==\u001b[39m \u001b[38;5;28msorted\u001b[39m(df_orig\u001b[38;5;241m.\u001b[39mcollect())\n",
      "\u001b[1;31mAssertionError\u001b[0m: "
     ]
    }
   ],
   "source": [
    "assert_transform(df_fintech_3.limit(5))"
   ]
  },
  {
   "cell_type": "code",
   "execution_count": null,
   "id": "70a25eeb",
   "metadata": {},
   "outputs": [],
   "source": [
    "# para la versión 3.5.0 en adelante: \n",
    "# https://spark.apache.org/docs/latest/api/python/reference/api/pyspark.testing.assertDataFrameEqual.html"
   ]
  }
 ],
 "metadata": {
  "kernelspec": {
   "display_name": "Python 3 (ipykernel)",
   "language": "python",
   "name": "python3"
  },
  "language_info": {
   "codemirror_mode": {
    "name": "ipython",
    "version": 3
   },
   "file_extension": ".py",
   "mimetype": "text/x-python",
   "name": "python",
   "nbconvert_exporter": "python",
   "pygments_lexer": "ipython3",
   "version": "3.11.5"
  }
 },
 "nbformat": 4,
 "nbformat_minor": 5
}
