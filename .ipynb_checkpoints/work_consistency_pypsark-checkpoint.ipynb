{
 "cells": [
  {
   "cell_type": "code",
   "execution_count": 1,
   "id": "29492750",
   "metadata": {},
   "outputs": [
    {
     "name": "stderr",
     "output_type": "stream",
     "text": [
      "C:\\Users\\luisf\\anaconda3\\Lib\\site-packages\\pyspark\\pandas\\__init__.py:50: UserWarning: 'PYARROW_IGNORE_TIMEZONE' environment variable was not set. It is required to set this environment variable to '1' in both driver and executor sides if you use pyarrow>=2.0.0. pandas-on-Spark will set it for you but it does not work if there is a Spark context already launched.\n",
      "  warnings.warn(\n"
     ]
    }
   ],
   "source": [
    "from pyspark.sql import SparkSession\n",
    "from pyspark.sql.functions import *\n",
    "from pyspark.sql.types import *\n",
    "import pyspark.pandas as ps\n",
    "import pandas as pd"
   ]
  },
  {
   "cell_type": "code",
   "execution_count": 2,
   "id": "f2f9945e",
   "metadata": {},
   "outputs": [],
   "source": [
    "import os\n",
    "import sys\n",
    "os.environ['PYSPARK_PYTHON'] = sys.executable\n",
    "os.environ['PYSPARK_DRIVER_PYTHON'] = sys.executable"
   ]
  },
  {
   "cell_type": "code",
   "execution_count": 3,
   "id": "446efaed",
   "metadata": {},
   "outputs": [],
   "source": [
    "spark = SparkSession.builder.appName(\"consistency_test\").getOrCreate()"
   ]
  },
  {
   "cell_type": "code",
   "execution_count": 4,
   "id": "3e780d91",
   "metadata": {},
   "outputs": [
    {
     "name": "stdout",
     "output_type": "stream",
     "text": [
      "+-------+-----+----+------------+--------+----------+------------------+---------+--------+--------------+-----------+--------+--------------------+--------------+--------+------------+--------+------------+-----------------+------------+--------------+--------------+-------------+-------------+-----------+--------------+-----------+-----------+\n",
      "|user_id|churn| age|credit_score|deposits|withdrawal|purchases_partners|purchases|cc_taken|cc_recommended|cc_disliked|cc_liked|cc_application_begin|app_downloaded|web_user|app_web_user|ios_user|android_user|registered_phones|payment_type|waiting_4_loan|cancelled_loan|received_loan|rejected_loan|zodiac_sign|rewards_earned|reward_rate|is_referred|\n",
      "+-------+-----+----+------------+--------+----------+------------------+---------+--------+--------------+-----------+--------+--------------------+--------------+--------+------------+--------+------------+-----------------+------------+--------------+--------------+-------------+-------------+-----------+--------------+-----------+-----------+\n",
      "|      1|false|21.0|       577.0|      48|         4|                52|       45|       0|           245|          0|       0|                  22|          true|    true|        true|   false|        true|                2|Semi-Monthly|         false|         false|        false|        false|     Pisces|          56.0|       1.87|      false|\n",
      "|      8| true|31.0|       519.0|       0|         0|                 0|        0|       0|            49|          0|       0|                   2|          true|   false|       false|   false|        true|                0|   Bi-Weekly|         false|         false|        false|        false|      Virgo|          18.0|        0.6|       true|\n",
      "+-------+-----+----+------------+--------+----------+------------------+---------+--------+--------------+-----------+--------+--------------------+--------------+--------+------------+--------+------------+-----------------+------------+--------------+--------------+-------------+-------------+-----------+--------------+-----------+-----------+\n",
      "only showing top 2 rows\n",
      "\n"
     ]
    }
   ],
   "source": [
    "df_fintech = spark.read.csv(\"clean_fintech.csv\", header = True, inferSchema=True)\n",
    "df_fintech.show(2)"
   ]
  },
  {
   "cell_type": "markdown",
   "id": "6159464c",
   "metadata": {},
   "source": [
    "## Transformations to perform:\n",
    "- Multiply all numeric columns * 2.\n",
    "- Delete the letter \"e\" from all str columns.\n",
    "- Set all bool variables to True.\n",
    "- Create 3 extra numeric columns:\n",
    "    - Mean of purchases.\n",
    "    - Median of age.\n",
    "    - Mean of credit_score."
   ]
  },
  {
   "cell_type": "code",
   "execution_count": 5,
   "id": "e5c7f66b",
   "metadata": {},
   "outputs": [],
   "source": [
    "df_fintech_2 = df_fintech.select('age','credit_score','purchases','zodiac_sign','payment_type','churn','cancelled_loan','received_loan')"
   ]
  },
  {
   "cell_type": "code",
   "execution_count": 6,
   "id": "89f3920f",
   "metadata": {},
   "outputs": [],
   "source": [
    "df_fintech_2 = df_fintech_2.withColumn(\"age\", df_fintech_2.age.cast(\"int\"))"
   ]
  },
  {
   "cell_type": "code",
   "execution_count": 7,
   "id": "8927a10e",
   "metadata": {},
   "outputs": [],
   "source": [
    "df_fintech_3 = df_fintech_2"
   ]
  },
  {
   "cell_type": "code",
   "execution_count": 8,
   "id": "e20499b0",
   "metadata": {},
   "outputs": [
    {
     "name": "stdout",
     "output_type": "stream",
     "text": [
      "+---+-----------------+---------+-----------+------------+-----+--------------+-------------+\n",
      "|age|     credit_score|purchases|zodiac_sign|payment_type|churn|cancelled_loan|received_loan|\n",
      "+---+-----------------+---------+-----------+------------+-----+--------------+-------------+\n",
      "| 21|            577.0|       45|     Pisces|Semi-Monthly|false|         false|        false|\n",
      "| 31|            519.0|        0|      Virgo|   Bi-Weekly| true|         false|        false|\n",
      "| 26|542.5155998157956|        0|Sagittarius|      Weekly|false|         false|        false|\n",
      "+---+-----------------+---------+-----------+------------+-----+--------------+-------------+\n",
      "only showing top 3 rows\n",
      "\n"
     ]
    }
   ],
   "source": [
    "df_fintech_2.show(3)"
   ]
  },
  {
   "cell_type": "code",
   "execution_count": 9,
   "id": "9f74e95c",
   "metadata": {},
   "outputs": [
    {
     "name": "stdout",
     "output_type": "stream",
     "text": [
      "root\n",
      " |-- age: integer (nullable = true)\n",
      " |-- credit_score: double (nullable = true)\n",
      " |-- purchases: integer (nullable = true)\n",
      " |-- zodiac_sign: string (nullable = true)\n",
      " |-- payment_type: string (nullable = true)\n",
      " |-- churn: boolean (nullable = true)\n",
      " |-- cancelled_loan: boolean (nullable = true)\n",
      " |-- received_loan: boolean (nullable = true)\n",
      "\n"
     ]
    }
   ],
   "source": [
    "df_fintech_2.printSchema()"
   ]
  },
  {
   "cell_type": "code",
   "execution_count": 10,
   "id": "e6fafb1b",
   "metadata": {},
   "outputs": [],
   "source": [
    "# df_fintech_2 = df_fintech_2.withColumn(\"purchases_mean\", lit(df_fintech_2.select(mean('purchases')).collect()[0][0]))\\\n",
    "#              .withColumn(\"score_mean\", lit(df_fintech_2.select(mean('credit_score')).collect()[0][0]))\\\n",
    "#             .withColumn(\"age_median\", lit(df_fintech_2.select(median('age')).collect()[0][0]))"
   ]
  },
  {
   "cell_type": "code",
   "execution_count": 11,
   "id": "eaf8cb7c",
   "metadata": {},
   "outputs": [],
   "source": [
    "def transform_bool(df):\n",
    "    for c in [f.name for f in df.schema.fields if isinstance(f.dataType, BooleanType)]:\n",
    "        df = df.withColumn(c, lit(True))\n",
    "    return df\n",
    "\n",
    "def transform_str(df):\n",
    "    for c in [f.name for f in df.schema.fields if isinstance(f.dataType, StringType)]:\n",
    "        df = df.withColumn(c, regexp_replace(c, 'e', ''))\n",
    "    return df\n",
    "\n",
    "def transform_numeric(df):\n",
    "    for c in [f.name for f in df.schema.fields if isinstance (f.dataType, (IntegerType,DoubleType))]:\n",
    "        df = df.withColumn(c, df[c]*2)\n",
    "    return df\n",
    "\n",
    "def transform_extracols(df):\n",
    "    df = df.withColumn(\"purchases_mean\", lit(df.select(mean('purchases')).collect()[0][0]))\\\n",
    "             .withColumn(\"score_mean\", lit(df.select(mean('credit_score')).collect()[0][0]))\\\n",
    "            .withColumn(\"age_median\", lit(df.select(median('age')).collect()[0][0]))\n",
    "    return df"
   ]
  },
  {
   "cell_type": "code",
   "execution_count": 12,
   "id": "6cd81f82",
   "metadata": {},
   "outputs": [],
   "source": [
    "df_fintech_2 = df_fintech_2.transform(transform_str).transform(transform_numeric).transform(transform_bool).transform(transform_extracols)\n",
    "# result = (\n",
    "#    df.lazy()\n",
    "#    .pipe(add_position_column)\n",
    "#    .pipe(add_squad_number_column)\n",
    "#    .collect()\n",
    "#)\n",
    "#\n",
    "#result\n",
    "# https://typethepipe.com/vizs-and-tips/python-polars-pipe-function-to-one-more-columns/ "
   ]
  },
  {
   "cell_type": "code",
   "execution_count": 13,
   "id": "3b3c62d3",
   "metadata": {},
   "outputs": [
    {
     "name": "stdout",
     "output_type": "stream",
     "text": [
      "root\n",
      " |-- age: integer (nullable = true)\n",
      " |-- credit_score: double (nullable = true)\n",
      " |-- purchases: integer (nullable = true)\n",
      " |-- zodiac_sign: string (nullable = true)\n",
      " |-- payment_type: string (nullable = true)\n",
      " |-- churn: boolean (nullable = false)\n",
      " |-- cancelled_loan: boolean (nullable = false)\n",
      " |-- received_loan: boolean (nullable = false)\n",
      " |-- purchases_mean: double (nullable = false)\n",
      " |-- score_mean: double (nullable = false)\n",
      " |-- age_median: double (nullable = false)\n",
      "\n"
     ]
    }
   ],
   "source": [
    "df_fintech_2.printSchema()"
   ]
  },
  {
   "cell_type": "code",
   "execution_count": 14,
   "id": "497bc9af",
   "metadata": {},
   "outputs": [
    {
     "name": "stdout",
     "output_type": "stream",
     "text": [
      "+---+-----------------+---------+-----------+------------+-----+--------------+-------------+-----------------+------------------+----------+\n",
      "|age|     credit_score|purchases|zodiac_sign|payment_type|churn|cancelled_loan|received_loan|   purchases_mean|        score_mean|age_median|\n",
      "+---+-----------------+---------+-----------+------------+-----+--------------+-------------+-----------------+------------------+----------+\n",
      "| 42|           1154.0|       90|      Piscs| Smi-Monthly| true|          true|         true|6.318724749692605|1085.1526258518454|      60.0|\n",
      "| 62|           1038.0|        0|      Virgo|     Bi-Wkly| true|          true|         true|6.318724749692605|1085.1526258518454|      60.0|\n",
      "| 52|1085.031199631591|        0|Sagittarius|        Wkly| true|          true|         true|6.318724749692605|1085.1526258518454|      60.0|\n",
      "| 66|           1116.0|        0|         Lo|     Bi-Wkly| true|          true|         true|6.318724749692605|1085.1526258518454|      60.0|\n",
      "| 52|           1118.0|        0|      Virgo|     Bi-Wkly| true|          true|         true|6.318724749692605|1085.1526258518454|      60.0|\n",
      "+---+-----------------+---------+-----------+------------+-----+--------------+-------------+-----------------+------------------+----------+\n",
      "only showing top 5 rows\n",
      "\n"
     ]
    }
   ],
   "source": [
    "df_fintech_2.show(5)"
   ]
  },
  {
   "cell_type": "code",
   "execution_count": 39,
   "id": "3286076a",
   "metadata": {},
   "outputs": [],
   "source": [
    "pandas_df = pd.DataFrame({\n",
    "'age':[42,62,52,66,52],\n",
    "'credit_score':[1154.0000,1038.0000,1085.0312,1116.0000,1118.0000],\n",
    "'purchases':[90,0,0,0,0],\n",
    "'zodiac_sign':['Piscs','Virgo','Sagittarius','Lo','Virgo'],\n",
    "'payment_type':['Smi-Monthly','Bi-Wkly','Wkly','Bi-Wkly','Bi-Wkly'],\n",
    "'churn':[True,True,True,True,True],\n",
    "'cancelled_loan':[True,True,True,True,True],\n",
    "'received_loan':[True,True,True,True,True],\n",
    "'purchases_mean':[6.318724749692605,6.318724749692605,6.318724749692605,6.318724749692605,6.318724749692605],\n",
    "'score_mean':[1085.1526258518454,1085.1526258518454,1085.1526258518454,1085.1526258518454,1085.1526258518454],\n",
    "'age_median':[60.0,60.0,60.0,60.0,60.0]\n",
    "})\n",
    "###\n",
    "pyspark_schema = StructType([\n",
    "StructField('age',IntegerType()),\n",
    "StructField('credit_score',DoubleType()),\n",
    "StructField('purchases',IntegerType()),\n",
    "StructField('zodiac_sign',StringType()),\n",
    "StructField('payment_type',StringType()),\n",
    "StructField('churn',BooleanType(),False),\n",
    "StructField('cancelled_loan',BooleanType(),False),\n",
    "StructField('received_loan',BooleanType(),False),\n",
    "StructField('purchases_mean',DoubleType(),False),\n",
    "StructField('score_mean',DoubleType(), False),\n",
    "StructField('age_median',DoubleType(),False)\n",
    "])"
   ]
  },
  {
   "cell_type": "code",
   "execution_count": 40,
   "id": "6f957e02",
   "metadata": {},
   "outputs": [],
   "source": [
    "df_expected = spark.createDataFrame(pandas_df, pyspark_schema)"
   ]
  },
  {
   "cell_type": "code",
   "execution_count": null,
   "id": "20c58982",
   "metadata": {},
   "outputs": [],
   "source": [
    "df_expected.show()"
   ]
  },
  {
   "cell_type": "code",
   "execution_count": null,
   "id": "0939f8e2",
   "metadata": {},
   "outputs": [],
   "source": [
    "df_expected.printSchema()"
   ]
  },
  {
   "cell_type": "code",
   "execution_count": null,
   "id": "4f478420",
   "metadata": {},
   "outputs": [],
   "source": [
    "df_fintech_2.limit(5).collect()"
   ]
  },
  {
   "cell_type": "code",
   "execution_count": null,
   "id": "423391c6",
   "metadata": {},
   "outputs": [],
   "source": [
    "df_expected.collect()"
   ]
  },
  {
   "cell_type": "code",
   "execution_count": null,
   "id": "9f3e8254",
   "metadata": {},
   "outputs": [],
   "source": [
    "assert sorted(df_expected.collect()) == sorted(df_fintech_2.limit(5).collect())"
   ]
  },
  {
   "cell_type": "markdown",
   "id": "7c88b67d",
   "metadata": {},
   "source": [
    "---"
   ]
  },
  {
   "cell_type": "code",
   "execution_count": null,
   "id": "26a8ee75",
   "metadata": {},
   "outputs": [],
   "source": [
    "# Apply transform df_orig inside the assert function.\n",
    "def assert_transform(df_orig):\n",
    "    \n",
    "    #transform orig\n",
    "    df_orig = df_orig.transform(transform_str).transform(transform_numeric).transform(transform_bool).transform(transform_extracols)\n",
    "    #expected df\n",
    "    pandas_df = pd.DataFrame({\n",
    "    'age':[42,62,52,66,52],\n",
    "    'credit_score':[1154.0000,1038.0000,1085.0312,1116.0000,1118.0000],\n",
    "    'purchases':[90,0,0,0,0],\n",
    "    'zodiac_sign':['Piscs','Virgo','Sagittarius','Lo','Virgo'],\n",
    "    'payment_type':['Smi-Monthly','Bi-Wkly','Wkly','Bi-Wkly','Bi-Wkly'],\n",
    "    'churn':[True,True,True,True,True],\n",
    "    'cancelled_loan':[True,True,True,True,True],\n",
    "    'received_loan':[True,True,True,True,True],\n",
    "    'purchases_mean':[18,18,18,18,18],\n",
    "    'age_median':[52.0,52.0,52.0,52.0,52.0],\n",
    "    'score_mean':[1102.20624,1102.20624,1102.20624,1102.20624,1102.20624]})\n",
    "###\n",
    "    pyspark_schema = StructType([\n",
    "        StructField('age',IntegerType()),\n",
    "        StructField('credit_score',DoubleType()),\n",
    "        StructField('purchases',IntegerType()),\n",
    "        StructField('zodiac_sign',StringType()),\n",
    "        StructField('payment_type',StringType()),\n",
    "        StructField('churn',BooleanType()),\n",
    "        StructField('cancelled_loan',BooleanType()),\n",
    "        StructField('received_loan',BooleanType()),\n",
    "        StructField('purchases_mean',IntegerType()),\n",
    "        StructField('age_median',DoubleType()),\n",
    "        StructField('score_mean',DoubleType())\n",
    "    ])\n",
    "\n",
    "    df_expected = spark.createDataFrame(pandas_df,schema=pyspark_schema)\n",
    "    \n",
    "    assert sorted(df_expected.collect()) == sorted(df_orig.collect())"
   ]
  },
  {
   "cell_type": "code",
   "execution_count": null,
   "id": "faae28fb",
   "metadata": {},
   "outputs": [],
   "source": [
    "assert_transform(df_fintech_3.limit(5))"
   ]
  },
  {
   "cell_type": "code",
   "execution_count": null,
   "id": "70a25eeb",
   "metadata": {},
   "outputs": [],
   "source": []
  }
 ],
 "metadata": {
  "kernelspec": {
   "display_name": "Python 3 (ipykernel)",
   "language": "python",
   "name": "python3"
  },
  "language_info": {
   "codemirror_mode": {
    "name": "ipython",
    "version": 3
   },
   "file_extension": ".py",
   "mimetype": "text/x-python",
   "name": "python",
   "nbconvert_exporter": "python",
   "pygments_lexer": "ipython3",
   "version": "3.11.5"
  }
 },
 "nbformat": 4,
 "nbformat_minor": 5
}
