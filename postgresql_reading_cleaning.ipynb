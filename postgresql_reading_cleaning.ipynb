{
 "cells": [
  {
   "cell_type": "markdown",
   "id": "31ee5727",
   "metadata": {},
   "source": [
    "# Libraries"
   ]
  },
  {
   "cell_type": "code",
   "execution_count": 1,
   "id": "59ea0f6d",
   "metadata": {},
   "outputs": [],
   "source": [
    "import pandas as pd\n",
    "import pandas.io.sql as sqlio\n",
    "import psycopg2 as ps"
   ]
  },
  {
   "cell_type": "markdown",
   "id": "eb36b890",
   "metadata": {},
   "source": [
    "# 0. Connection to Postgre"
   ]
  },
  {
   "cell_type": "code",
   "execution_count": 2,
   "id": "7ca5683a",
   "metadata": {},
   "outputs": [],
   "source": [
    "con = ps.connect(dbname=\"fintech\",\n",
    "                   user = \"postgres\",\n",
    "                   password = \"lolita\",\n",
    "                   host = \"localhost\",\n",
    "                   port = \"5432\")"
   ]
  },
  {
   "cell_type": "code",
   "execution_count": 3,
   "id": "a1268508",
   "metadata": {},
   "outputs": [],
   "source": [
    "sql = \"\"\"select * from fintech_user_f\"\"\""
   ]
  },
  {
   "cell_type": "code",
   "execution_count": 4,
   "id": "5a4e0d55",
   "metadata": {},
   "outputs": [
    {
     "name": "stderr",
     "output_type": "stream",
     "text": [
      "C:\\Users\\luisf\\AppData\\Local\\Temp\\ipykernel_7524\\2699896095.py:1: UserWarning: pandas only supports SQLAlchemy connectable (engine/connection) or database string URI or sqlite3 DBAPI2 connection. Other DBAPI2 objects are not tested. Please consider using SQLAlchemy.\n",
      "  df = sqlio.read_sql_query(sql, con)\n"
     ]
    }
   ],
   "source": [
    "df = sqlio.read_sql_query(sql, con)"
   ]
  },
  {
   "cell_type": "code",
   "execution_count": 5,
   "id": "0dd91b4c",
   "metadata": {},
   "outputs": [
    {
     "data": {
      "text/html": [
       "<div>\n",
       "<style scoped>\n",
       "    .dataframe tbody tr th:only-of-type {\n",
       "        vertical-align: middle;\n",
       "    }\n",
       "\n",
       "    .dataframe tbody tr th {\n",
       "        vertical-align: top;\n",
       "    }\n",
       "\n",
       "    .dataframe thead th {\n",
       "        text-align: right;\n",
       "    }\n",
       "</style>\n",
       "<table border=\"1\" class=\"dataframe\">\n",
       "  <thead>\n",
       "    <tr style=\"text-align: right;\">\n",
       "      <th></th>\n",
       "      <th>user_id</th>\n",
       "      <th>churn</th>\n",
       "      <th>age</th>\n",
       "      <th>housing</th>\n",
       "      <th>credit_score</th>\n",
       "      <th>deposits</th>\n",
       "      <th>withdrawal</th>\n",
       "      <th>purchases_partners</th>\n",
       "      <th>purchases</th>\n",
       "      <th>cc_taken</th>\n",
       "      <th>...</th>\n",
       "      <th>registered_phones</th>\n",
       "      <th>payment_type</th>\n",
       "      <th>waiting_4_loan</th>\n",
       "      <th>cancelled_loan</th>\n",
       "      <th>received_loan</th>\n",
       "      <th>rejected_loan</th>\n",
       "      <th>zodiac_sign</th>\n",
       "      <th>rewards_earned</th>\n",
       "      <th>reward_rate</th>\n",
       "      <th>is_referred</th>\n",
       "    </tr>\n",
       "  </thead>\n",
       "  <tbody>\n",
       "    <tr>\n",
       "      <th>0</th>\n",
       "      <td>1</td>\n",
       "      <td>False</td>\n",
       "      <td>21.0</td>\n",
       "      <td>R</td>\n",
       "      <td>577.0</td>\n",
       "      <td>48</td>\n",
       "      <td>4</td>\n",
       "      <td>52</td>\n",
       "      <td>45</td>\n",
       "      <td>0</td>\n",
       "      <td>...</td>\n",
       "      <td>2</td>\n",
       "      <td>Semi-Monthly</td>\n",
       "      <td>False</td>\n",
       "      <td>False</td>\n",
       "      <td>False</td>\n",
       "      <td>False</td>\n",
       "      <td>Pisces</td>\n",
       "      <td>56.0</td>\n",
       "      <td>1.87</td>\n",
       "      <td>False</td>\n",
       "    </tr>\n",
       "    <tr>\n",
       "      <th>1</th>\n",
       "      <td>4</td>\n",
       "      <td>False</td>\n",
       "      <td>35.0</td>\n",
       "      <td>R</td>\n",
       "      <td>566.0</td>\n",
       "      <td>15</td>\n",
       "      <td>0</td>\n",
       "      <td>73</td>\n",
       "      <td>15</td>\n",
       "      <td>0</td>\n",
       "      <td>...</td>\n",
       "      <td>0</td>\n",
       "      <td>Semi-Monthly</td>\n",
       "      <td>False</td>\n",
       "      <td>False</td>\n",
       "      <td>False</td>\n",
       "      <td>False</td>\n",
       "      <td>na</td>\n",
       "      <td>49.0</td>\n",
       "      <td>1.63</td>\n",
       "      <td>False</td>\n",
       "    </tr>\n",
       "    <tr>\n",
       "      <th>2</th>\n",
       "      <td>8</td>\n",
       "      <td>True</td>\n",
       "      <td>31.0</td>\n",
       "      <td>na</td>\n",
       "      <td>519.0</td>\n",
       "      <td>0</td>\n",
       "      <td>0</td>\n",
       "      <td>0</td>\n",
       "      <td>0</td>\n",
       "      <td>0</td>\n",
       "      <td>...</td>\n",
       "      <td>0</td>\n",
       "      <td>Bi-Weekly</td>\n",
       "      <td>False</td>\n",
       "      <td>False</td>\n",
       "      <td>False</td>\n",
       "      <td>False</td>\n",
       "      <td>Virgo</td>\n",
       "      <td>18.0</td>\n",
       "      <td>0.60</td>\n",
       "      <td>True</td>\n",
       "    </tr>\n",
       "    <tr>\n",
       "      <th>3</th>\n",
       "      <td>9</td>\n",
       "      <td>False</td>\n",
       "      <td>26.0</td>\n",
       "      <td>na</td>\n",
       "      <td>NaN</td>\n",
       "      <td>0</td>\n",
       "      <td>0</td>\n",
       "      <td>30</td>\n",
       "      <td>0</td>\n",
       "      <td>0</td>\n",
       "      <td>...</td>\n",
       "      <td>2</td>\n",
       "      <td>Weekly</td>\n",
       "      <td>False</td>\n",
       "      <td>False</td>\n",
       "      <td>False</td>\n",
       "      <td>False</td>\n",
       "      <td>Sagittarius</td>\n",
       "      <td>23.0</td>\n",
       "      <td>0.77</td>\n",
       "      <td>False</td>\n",
       "    </tr>\n",
       "    <tr>\n",
       "      <th>4</th>\n",
       "      <td>10</td>\n",
       "      <td>False</td>\n",
       "      <td>33.0</td>\n",
       "      <td>R</td>\n",
       "      <td>558.0</td>\n",
       "      <td>0</td>\n",
       "      <td>0</td>\n",
       "      <td>76</td>\n",
       "      <td>0</td>\n",
       "      <td>0</td>\n",
       "      <td>...</td>\n",
       "      <td>0</td>\n",
       "      <td>Bi-Weekly</td>\n",
       "      <td>False</td>\n",
       "      <td>False</td>\n",
       "      <td>False</td>\n",
       "      <td>False</td>\n",
       "      <td>Leo</td>\n",
       "      <td>45.0</td>\n",
       "      <td>1.50</td>\n",
       "      <td>True</td>\n",
       "    </tr>\n",
       "  </tbody>\n",
       "</table>\n",
       "<p>5 rows × 29 columns</p>\n",
       "</div>"
      ],
      "text/plain": [
       "   user_id  churn   age housing  credit_score  deposits  withdrawal  \\\n",
       "0        1  False  21.0       R         577.0        48           4   \n",
       "1        4  False  35.0       R         566.0        15           0   \n",
       "2        8   True  31.0      na         519.0         0           0   \n",
       "3        9  False  26.0      na           NaN         0           0   \n",
       "4       10  False  33.0       R         558.0         0           0   \n",
       "\n",
       "   purchases_partners  purchases  cc_taken  ...  registered_phones  \\\n",
       "0                  52         45         0  ...                  2   \n",
       "1                  73         15         0  ...                  0   \n",
       "2                   0          0         0  ...                  0   \n",
       "3                  30          0         0  ...                  2   \n",
       "4                  76          0         0  ...                  0   \n",
       "\n",
       "   payment_type  waiting_4_loan  cancelled_loan  received_loan  rejected_loan  \\\n",
       "0  Semi-Monthly           False           False          False          False   \n",
       "1  Semi-Monthly           False           False          False          False   \n",
       "2     Bi-Weekly           False           False          False          False   \n",
       "3        Weekly           False           False          False          False   \n",
       "4     Bi-Weekly           False           False          False          False   \n",
       "\n",
       "   zodiac_sign  rewards_earned  reward_rate  is_referred  \n",
       "0       Pisces            56.0         1.87        False  \n",
       "1           na            49.0         1.63        False  \n",
       "2        Virgo            18.0         0.60         True  \n",
       "3  Sagittarius            23.0         0.77        False  \n",
       "4          Leo            45.0         1.50         True  \n",
       "\n",
       "[5 rows x 29 columns]"
      ]
     },
     "execution_count": 5,
     "metadata": {},
     "output_type": "execute_result"
    }
   ],
   "source": [
    "df.head()"
   ]
  },
  {
   "cell_type": "markdown",
   "id": "67766028",
   "metadata": {},
   "source": [
    "---\n",
    "---\n",
    "# 1.Cleaning and formatting"
   ]
  },
  {
   "cell_type": "markdown",
   "id": "b589f05a",
   "metadata": {},
   "source": [
    "## 1.0 Null values\n",
    "### 1.0.0 NaNs"
   ]
  },
  {
   "cell_type": "code",
   "execution_count": 6,
   "id": "7d72ec83",
   "metadata": {},
   "outputs": [
    {
     "data": {
      "text/plain": [
       "user_id                    0\n",
       "churn                      0\n",
       "age                        4\n",
       "housing                    0\n",
       "credit_score            7369\n",
       "deposits                   0\n",
       "withdrawal                 0\n",
       "purchases_partners         0\n",
       "purchases                  0\n",
       "cc_taken                   0\n",
       "cc_recommended             0\n",
       "cc_disliked                0\n",
       "cc_liked                   0\n",
       "cc_application_begin       0\n",
       "app_downloaded             0\n",
       "web_user                   0\n",
       "app_web_user               0\n",
       "ios_user                   0\n",
       "android_user               0\n",
       "registered_phones          0\n",
       "payment_type               0\n",
       "waiting_4_loan             0\n",
       "cancelled_loan             0\n",
       "received_loan              0\n",
       "rejected_loan              0\n",
       "zodiac_sign                0\n",
       "rewards_earned          2996\n",
       "reward_rate                0\n",
       "is_referred                0\n",
       "dtype: int64"
      ]
     },
     "execution_count": 6,
     "metadata": {},
     "output_type": "execute_result"
    }
   ],
   "source": [
    "df.isna().sum()"
   ]
  },
  {
   "cell_type": "code",
   "execution_count": 7,
   "id": "664ab80f",
   "metadata": {},
   "outputs": [
    {
     "name": "stdout",
     "output_type": "stream",
     "text": [
      "NaNs in credit_score represent 29.78456812578311 % of total rows.\n",
      "NaNs in rewards represent 12.109453942847905 % of total rows.\n"
     ]
    }
   ],
   "source": [
    "print(\"NaNs in credit_score represent\",df[df.credit_score.isna()].shape[0]/df.shape[0]*100, \"% of total rows.\")\n",
    "print(\"NaNs in rewards represent\",df[df.rewards_earned.isna()].shape[0]/df.shape[0]*100, \"% of total rows.\")"
   ]
  },
  {
   "cell_type": "markdown",
   "id": "e1af4209",
   "metadata": {},
   "source": [
    "_Filling rewards with 0s_"
   ]
  },
  {
   "cell_type": "code",
   "execution_count": 8,
   "id": "d0231190",
   "metadata": {},
   "outputs": [
    {
     "data": {
      "text/plain": [
       "array([ 56.,  49.,  18.,  23.,  45.,  60.,  61.,  53.,  37.,  34.,  12.,\n",
       "        13.,  47.,  40.,  26.,  35.,  25.,  10.,  65.,  29.,  22.,  75.,\n",
       "        44.,  63.,  32.,  51.,  41.,   5.,  21.,   6.,  67.,   2.,  68.,\n",
       "        52.,  84.,   9.,  59.,  nan,  64.,  15.,  11.,  14.,  54.,  46.,\n",
       "        24.,  48.,  33.,   4.,  58.,  43.,  19.,   1.,  50.,  17.,   3.,\n",
       "        57.,  28.,  69.,   7.,  16.,  55.,  30.,  39.,  31.,  66.,  27.,\n",
       "         8.,  42.,  72.,  36.,  76.,  62.,  20.,  38.,  71.,  90.,  80.,\n",
       "        78.,  77.,  81.,  70.,  74.,  73.,  87.,  79.,  85.,  86.,  83.,\n",
       "       114.,  99.,  82.,  88.])"
      ]
     },
     "execution_count": 8,
     "metadata": {},
     "output_type": "execute_result"
    }
   ],
   "source": [
    "df.rewards_earned.unique()"
   ]
  },
  {
   "cell_type": "code",
   "execution_count": 9,
   "id": "d330c3c6",
   "metadata": {},
   "outputs": [],
   "source": [
    "df.rewards_earned = df.rewards_earned.fillna(0.)"
   ]
  },
  {
   "cell_type": "markdown",
   "id": "d95cb46e",
   "metadata": {},
   "source": [
    "_Putting mean in credit_score NaN values_"
   ]
  },
  {
   "cell_type": "code",
   "execution_count": 10,
   "id": "f23d2224",
   "metadata": {},
   "outputs": [],
   "source": [
    "df.credit_score = df.credit_score.fillna(df.credit_score.mean())"
   ]
  },
  {
   "cell_type": "code",
   "execution_count": 11,
   "id": "4b9af008",
   "metadata": {},
   "outputs": [
    {
     "name": "stdout",
     "output_type": "stream",
     "text": [
      "NaNs in credit_score represent 0.0 % of total rows.\n",
      "NaNs in rewards represent 0.0 % of total rows.\n"
     ]
    }
   ],
   "source": [
    "print(\"NaNs in credit_score represent\",df[df.credit_score.isna()].shape[0]/df.shape[0]*100, \"% of total rows.\")\n",
    "print(\"NaNs in rewards represent\",df[df.rewards_earned.isna()].shape[0]/df.shape[0]*100, \"% of total rows.\")"
   ]
  },
  {
   "cell_type": "markdown",
   "id": "a5a65293",
   "metadata": {},
   "source": [
    "### 1.1.1 NaNs in str format"
   ]
  },
  {
   "cell_type": "code",
   "execution_count": 12,
   "id": "027e524f",
   "metadata": {},
   "outputs": [
    {
     "name": "stdout",
     "output_type": "stream",
     "text": [
      "user_id [    1     4     8 ... 69653 69655 69658]\n",
      "churn [False  True]\n",
      "age [21. 35. 31. 26. 33. 54. 27. 28. 32. 42. 25. 38. 24. 44. 30. 41. 36. 49.\n",
      " 22. 40. 65. 52. 45. 29. 18. 51. 43. 34. 19. 48. 46. 23. 56. 37. 20. 39.\n",
      " 66. 62. 47. 75. 60. 53. 61. 50. 55. 70. 64. 58. 63. 57. 59. 72. 69. 84.\n",
      " 91. 73. 17. 78. 89. 68. 85. 67. 77. 74. 71. 80. 82. 83. 87. 81. nan 76.\n",
      " 79.]\n",
      "housing ['R' 'na' 'O']\n",
      "credit_score [577.         566.         519.         542.51559982 558.\n",
      " 559.         554.         501.         495.         500.\n",
      " 585.         533.         532.         557.         590.\n",
      " 494.         550.         562.         609.         481.\n",
      " 655.         364.         536.         525.         569.\n",
      " 572.         513.         473.         555.         649.\n",
      " 528.         526.         596.         620.         454.\n",
      " 538.         647.         506.         490.         613.\n",
      " 530.         537.         461.         413.         588.\n",
      " 540.         581.         587.         535.         552.\n",
      " 687.         491.         472.         597.         605.\n",
      " 570.         545.         638.         539.         531.\n",
      " 636.         571.         705.         464.         499.\n",
      " 361.         567.         452.         542.         606.\n",
      " 582.         511.         661.         527.         561.\n",
      " 459.         416.         563.         547.         408.\n",
      " 446.         443.         548.         529.         575.\n",
      " 615.         592.         574.         580.         573.\n",
      " 700.         521.         621.         591.         479.\n",
      " 517.         489.         632.         475.         465.\n",
      " 422.         444.         467.         496.         522.\n",
      " 672.         503.         608.         524.         516.\n",
      " 512.         485.         583.         423.         502.\n",
      " 476.         541.         478.         450.         670.\n",
      " 457.         568.         486.         417.         546.\n",
      " 553.         579.         604.         622.         483.\n",
      " 595.         504.         619.         488.         654.\n",
      " 508.         556.         520.         447.         614.\n",
      " 514.         470.         509.         469.         549.\n",
      " 428.         487.         576.         493.         505.\n",
      " 612.         663.         610.         551.         453.\n",
      " 637.         523.         584.         439.         425.\n",
      " 600.         753.         711.         466.         405.\n",
      " 603.         641.         723.         642.         690.\n",
      " 429.         460.         507.         602.         564.\n",
      " 630.         796.         594.         617.         671.\n",
      " 456.         623.         599.         593.         625.\n",
      " 427.         565.         586.         414.         492.\n",
      " 379.         578.         626.         646.         474.\n",
      " 643.         497.         624.         544.         631.\n",
      " 432.         498.         664.         518.         480.\n",
      " 616.         433.         633.         645.         477.\n",
      " 394.         515.         560.         653.         627.\n",
      " 607.         759.         598.         510.         635.\n",
      " 675.         660.         589.         651.         629.\n",
      " 688.         686.         424.         731.         357.\n",
      " 803.         534.         471.         458.         484.\n",
      " 463.         676.         816.         618.         334.\n",
      " 728.         369.         693.         468.         426.\n",
      " 431.         434.         543.         455.         445.\n",
      "   3.         383.         482.         639.         449.\n",
      " 436.         330.         451.         442.         757.\n",
      " 657.         462.         652.         668.         659.\n",
      " 648.         656.         679.         678.         611.\n",
      " 640.         375.         628.         702.         438.\n",
      " 666.         421.         634.         441.         435.\n",
      " 365.         440.         695.         387.         667.\n",
      " 729.         644.         419.         743.         669.\n",
      " 411.         662.         696.         437.         730.\n",
      " 754.         680.         409.         714.         397.\n",
      " 685.         650.         717.         601.         760.\n",
      " 448.         390.         418.         677.         340.\n",
      " 407.         701.         363.         699.         737.\n",
      " 395.         399.         380.         718.         736.\n",
      " 430.         713.         396.         823.         681.\n",
      " 807.         402.         778.         302.         692.\n",
      " 741.         367.         658.         724.         674.\n",
      " 703.         781.         779.         401.         382.\n",
      " 415.         403.         381.         689.         420.\n",
      " 747.         400.         356.         712.         748.\n",
      " 698.         707.         801.         385.         358.\n",
      " 799.         377.         392.         752.         812.\n",
      " 304.         410.         744.         733.         751.\n",
      " 388.         311.         412.         709.         815.\n",
      " 697.         404.         691.         354.         706.\n",
      " 761.         791.         665.         683.         378.\n",
      " 806.         386.         393.         684.         824.\n",
      " 780.         355.         389.         673.         721.\n",
      " 710.         720.         335.         716.         353.\n",
      " 391.         366.         819.         785.         772.\n",
      " 708.         345.         406.         784.         755.\n",
      " 303.         682.         373.         323.         374.\n",
      " 715.           2.         746.         344.         745.\n",
      " 726.         359.         727.         732.         838.\n",
      " 764.         775.         704.         725.         371.\n",
      " 769.         800.         758.         336.         398.\n",
      " 320.         773.         306.         321.         765.\n",
      " 722.         694.         767.         319.         307.\n",
      " 348.         370.         346.         782.         352.\n",
      " 802.         762.         376.         342.         327.\n",
      " 739.         341.         719.         771.         777.\n",
      " 362.         818.         740.        ]\n",
      "deposits [48 15  0  2  1 60 17 10 12 11 52 16 29  7  3 13 35  9 43 55 20 38 21 59\n",
      "  6 62  4 23  5 37 44 46  8 18 41 34 53 56 14 27 32 50 54 45 25 42 22 31\n",
      " 30 24 19 33 57 39 58 47 26 36 28 40 51 61 49 64 63 65]\n",
      "withdrawal [ 4  0  1 13  2  3  6  5  8 11  7 10  9 12 19 16 14 15 20 17 29 28 24]\n",
      "purchases_partners [  52   73    0   30   76  206  114   81  169   11   88    1   15   58\n",
      "   62   39   27  133   14   89   12   22  160   48   92   61   84    4\n",
      "   34    9   25  113   74   21  149   99  159   32   24   28   71   41\n",
      "   67  103   59   19   44   60   26   47    7   55   82   96   42    2\n",
      "    3   57  143    5   37   63  100  111   77   95  154   51   46   29\n",
      "   94   17  105  108   65   20   66   40  118   80   16   64   38   50\n",
      "   18   97   35   68   54   72    6   83    8   56   45   13   36   90\n",
      "   78  148   10   43  110  115  122  226  136   33  176  204  138  270\n",
      "   53  183   70  123   23  304   49  283  135   31  102  134  249   69\n",
      "   91   93  112  127  116  216  207  101   79  147  200  125  142  104\n",
      "   75  130   98  173  126  168  106  132  119  179  129   87  175   86\n",
      "  162  144  170  231  178  146  192  107  189   85  145  156  193  252\n",
      "  172  139  163  161  141  109  290  131  201  124  243  194  188  151\n",
      "  155  165  137  203  267  120  214  327  244  191  152  157  121  232\n",
      "  180  164  342  117  153  278  199  205  272  140  174  223  222  185\n",
      "  259  210  247  299  408  212  309  128  273  254  184  250  709  209\n",
      "  167  182  158  225  208  187  229  268  242  202  198  236  524  197\n",
      "  150  350  694  186  293  213  171  833  217  269  237  406  381 1067\n",
      "  612  405  347  181  234  358  166  196  344  288  274  332  368  446\n",
      "  228  177  281  195  447  308  235  224  289  348  215  490  390  233\n",
      "  221  287  285  240  262  218  238  246  297  190  227  260  276  241]\n",
      "purchases [45 15  0  2  1 43 17 10 11 50 16 28  7  3 13 34  8 55 20 37 21 58  6 29\n",
      " 12  4 23  5 36 38 14 18 22 41 52 56 27 30 49  9 54 53 40 47 19 31 57 35\n",
      " 39 25 46 59 26 42 32 24 51 33 44 48 60 61 63 62]\n",
      "cc_taken [ 0  1  4  3  5  2  6 10 29  8 11  7]\n",
      "cc_recommended [245 199  49  56 166 304 221 131 184  65 214  24  32 179 148  64 115  76\n",
      " 215 100 202  63 260 170  54  30 238  40  82 282 125 243 196  25  10 150\n",
      "  71  95  68 231  21  14 249   2 264 194 248  31 308   0 192 217 299 272\n",
      "  59  44 195 205 163  78 156 137 177 289  35 128 180 102  50 230 159 255\n",
      " 191 209 254 162 208  94   1 168  45   5 160 124 145  70 239  39  11 143\n",
      " 157 169 224 132  13 123 275 147  57 164 174 153 281 140 104 189 176 236\n",
      "  17 291 175 233 113 252 270  81  89 193 146  18   4 126 152  77 135 121\n",
      " 165  91 225  69 268 149 266 240  98  58  41  33   3  74  79  36 119  97\n",
      " 133 228 141   6 120  80  60 129 116 218 293 213 171  28  86  66 216  20\n",
      "  93  19 273 183 229 118 206 181  85 253  15   7  12  43 139 269 287 127\n",
      "  27 105 134  16 251 151 167 106  75  47   8 190 290 144 300 114  26 220\n",
      " 103 284  38 155 296 244  84 200 307 122 197  46 136 286 305 306 301 130\n",
      " 267  90  23  72   9 285 246  92  29 237 219 173 204 182 211  62 235 185\n",
      " 178 110 265 161 234 262 259 210 302 172 203 278 186 226 312 109 198 138\n",
      "  34  42 222 107 256 207 212 112 320 279 257  73 158  37 292 111 271 261\n",
      " 283 101 247 241 201 280  51  67  87  96 142  22 263 276 242  99 227 117\n",
      "  55 187  53 303  88 232 154  48 295 223 274 108 250 298  83 310 294 258\n",
      "  61  52 288 277 315 324 297 188 321 313 522 311 309 314 316 323 318 322\n",
      " 326]\n",
      "cc_disliked [ 0  1  4  3  2  8 15  6 62  9  7  5 59 11 12 23 10 65 25 13]\n",
      "cc_liked [ 0  1  2  4  9  3  8 10 27]\n",
      "cc_application_begin [ 22   8   2   5  27  18   6  10   0  35  51   1  12   9  23   3   4  34\n",
      "  11  14  17  30   7  28  15  21  24  36  58  19  13  16  26  32  62  31\n",
      "  78  42  25  49  20  48  41  76  29  43  64  44  39  67  81  40  56  73\n",
      "  88  38  37  47  70  92  45  63  33  53  50  79  80  46 106  52  77  66\n",
      "  71  89  82  57  87 100  91  61 147  55 183  86  84  60 230 105  68 115\n",
      " 119 101 108  54  74 129  83 138 148  90  65 118 136  69  96  72  59 123\n",
      " 107 109  75 112  99  93  97 104 263 113 161  94 111 114 126 140 116  95\n",
      "  98 184]\n",
      "app_downloaded [ True False]\n",
      "web_user [ True False]\n",
      "app_web_user [ True False]\n",
      "ios_user [False  True]\n",
      "android_user [ True False]\n",
      "registered_phones [2 0 3 4 5]\n",
      "payment_type ['Semi-Monthly' 'Bi-Weekly' 'Weekly' 'na' 'Monthly']\n",
      "waiting_4_loan [False  True]\n",
      "cancelled_loan [False  True]\n",
      "received_loan [False  True]\n",
      "rejected_loan [False  True]\n",
      "zodiac_sign ['Pisces' 'na' 'Virgo' 'Sagittarius' 'Leo' 'Capricorn' 'Gemini' 'Cancer'\n",
      " 'Scorpio' 'Libra' 'Taurus' 'Aquarius' 'Aries']\n",
      "rewards_earned [ 56.  49.  18.  23.  45.  60.  61.  53.  37.  34.  12.  13.  47.  40.\n",
      "  26.  35.  25.  10.  65.  29.  22.  75.  44.  63.  32.  51.  41.   5.\n",
      "  21.   6.  67.   2.  68.  52.  84.   9.  59.   0.  64.  15.  11.  14.\n",
      "  54.  46.  24.  48.  33.   4.  58.  43.  19.   1.  50.  17.   3.  57.\n",
      "  28.  69.   7.  16.  55.  30.  39.  31.  66.  27.   8.  42.  72.  36.\n",
      "  76.  62.  20.  38.  71.  90.  80.  78.  77.  81.  70.  74.  73.  87.\n",
      "  79.  85.  86.  83. 114.  99.  82.  88.]\n",
      "reward_rate [1.87 1.63 0.6  0.77 1.5  2.   2.03 1.77 1.23 1.13 0.4  0.43 1.57 1.33\n",
      " 0.87 1.17 0.83 1.47 0.37 2.17 0.97 0.73 2.5  2.1  1.07 1.7  1.37 0.17\n",
      " 0.7  0.2  2.23 0.07 2.27 1.73 2.8  0.41 1.97 0.   2.13 0.88 0.79 0.47\n",
      " 1.8  1.53 0.8  0.82 1.6  0.5  1.1  0.13 1.93 1.43 1.46 1.67 0.57 1.9\n",
      " 0.03 0.1  0.67 0.93 2.3  0.23 0.53 1.83 3.3  0.63 1.   0.45 1.3  0.96\n",
      " 1.03 2.2  0.9  0.27 0.33 1.4  2.4  1.2  2.53 0.39 2.07 0.15 0.85 0.3\n",
      " 1.27 2.37 0.62 0.95 3.   0.78 0.11 0.74 1.85 2.67 2.6  0.61 0.68 2.57\n",
      " 0.89 2.7  0.52 0.44 0.36 0.71 0.48 4.   2.33 2.14 2.47 1.29 0.56 0.08\n",
      " 0.65 1.08 2.83 0.29 0.25 0.94 2.43 0.92 0.05 0.46 2.9  0.04 2.63 0.81\n",
      " 0.86 0.64 0.22 0.31 0.32 0.69 0.42 1.11 2.87 0.09 0.75 0.76 0.59 1.06\n",
      " 0.91 0.21 3.5  0.72 0.55 3.67 0.12 2.77 0.58 1.21 1.89 3.8  0.38 0.84\n",
      " 3.6  1.25 1.41 0.66 1.86 2.78 0.14 0.18 0.28 1.04 2.58 0.35 0.06 0.19\n",
      " 0.24 1.19 1.39 1.05 0.26 0.54 1.24 1.14 2.73 1.31 1.88 1.55 1.35 3.53\n",
      " 3.18 1.15 1.38 2.93 0.16 1.09 2.64 1.62 2.11 1.75 1.28]\n",
      "is_referred [False  True]\n"
     ]
    }
   ],
   "source": [
    "for c in df.columns:\n",
    "    print(c,df[c].unique())"
   ]
  },
  {
   "cell_type": "code",
   "execution_count": 13,
   "id": "1f73025d",
   "metadata": {},
   "outputs": [
    {
     "data": {
      "text/plain": [
       "array(['R', 'na', 'O'], dtype=object)"
      ]
     },
     "execution_count": 13,
     "metadata": {},
     "output_type": "execute_result"
    }
   ],
   "source": [
    "# Dont need this column\n",
    "df.housing.unique()"
   ]
  },
  {
   "cell_type": "code",
   "execution_count": 14,
   "id": "07425831",
   "metadata": {},
   "outputs": [],
   "source": [
    "df.drop(columns = 'housing', inplace = True)"
   ]
  },
  {
   "cell_type": "code",
   "execution_count": 15,
   "id": "db46c254",
   "metadata": {},
   "outputs": [
    {
     "data": {
      "text/plain": [
       "array(['Pisces', 'na', 'Virgo', 'Sagittarius', 'Leo', 'Capricorn',\n",
       "       'Gemini', 'Cancer', 'Scorpio', 'Libra', 'Taurus', 'Aquarius',\n",
       "       'Aries'], dtype=object)"
      ]
     },
     "execution_count": 15,
     "metadata": {},
     "output_type": "execute_result"
    }
   ],
   "source": [
    "df.zodiac_sign.unique()"
   ]
  },
  {
   "cell_type": "code",
   "execution_count": 16,
   "id": "455aa468",
   "metadata": {},
   "outputs": [
    {
     "name": "stdout",
     "output_type": "stream",
     "text": [
      "na values in zodiac_sign represent 7.958449537205449 % of total rows.\n"
     ]
    }
   ],
   "source": [
    "print(\"na values in zodiac_sign represent\",df[df.zodiac_sign == 'na'].shape[0]/df.shape[0]*100, \"% of total rows.\")"
   ]
  },
  {
   "cell_type": "code",
   "execution_count": 17,
   "id": "67a1a719",
   "metadata": {},
   "outputs": [],
   "source": [
    "df = df[df.zodiac_sign != 'na'].copy()"
   ]
  },
  {
   "cell_type": "code",
   "execution_count": 18,
   "id": "a1fc071f",
   "metadata": {},
   "outputs": [
    {
     "name": "stdout",
     "output_type": "stream",
     "text": [
      "na values in payment_type represent 14.531002986123308 % of total rows.\n"
     ]
    }
   ],
   "source": [
    "# too much\n",
    "print(\"na values in payment_type represent\",df[df.payment_type == 'na'].shape[0]/df.shape[0]*100, \"% of total rows.\")"
   ]
  },
  {
   "cell_type": "code",
   "execution_count": 19,
   "id": "7176205b",
   "metadata": {},
   "outputs": [],
   "source": [
    "df.payment_type = df.payment_type.fillna(\"Monthly\")"
   ]
  },
  {
   "cell_type": "markdown",
   "id": "5066812f",
   "metadata": {},
   "source": [
    "---\n",
    "## Export to CSV"
   ]
  },
  {
   "cell_type": "code",
   "execution_count": 21,
   "id": "1d26789e",
   "metadata": {},
   "outputs": [],
   "source": [
    "df.to_csv(\"clean_fintech.csv\", index = False)"
   ]
  }
 ],
 "metadata": {
  "kernelspec": {
   "display_name": "Python 3 (ipykernel)",
   "language": "python",
   "name": "python3"
  },
  "language_info": {
   "codemirror_mode": {
    "name": "ipython",
    "version": 3
   },
   "file_extension": ".py",
   "mimetype": "text/x-python",
   "name": "python",
   "nbconvert_exporter": "python",
   "pygments_lexer": "ipython3",
   "version": "3.11.5"
  }
 },
 "nbformat": 4,
 "nbformat_minor": 5
}
